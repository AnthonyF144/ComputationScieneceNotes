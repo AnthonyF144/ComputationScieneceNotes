{
 "cells": [
  {
   "attachments": {},
   "cell_type": "markdown",
   "metadata": {},
   "source": [
    "# Week 2 Textbook notes"
   ]
  },
  {
   "cell_type": "code",
   "execution_count": 13,
   "metadata": {},
   "outputs": [],
   "source": [
    "import numpy as np"
   ]
  },
  {
   "attachments": {},
   "cell_type": "markdown",
   "metadata": {},
   "source": [
    "## Chapter 3"
   ]
  },
  {
   "attachments": {},
   "cell_type": "markdown",
   "metadata": {},
   "source": [
    "### Nested Fucntions\n",
    "- Nested functions are Functions within Functions\n",
    "- Example:"
   ]
  },
  {
   "cell_type": "code",
   "execution_count": 18,
   "metadata": {},
   "outputs": [
    {
     "name": "stdout",
     "output_type": "stream",
     "text": [
      "[1.0, 1.4142135623730951, 1.0]\n"
     ]
    },
    {
     "ename": "TypeError",
     "evalue": "my_dist() missing 1 required positional argument: 'z'",
     "output_type": "error",
     "traceback": [
      "\u001b[1;31m---------------------------------------------------------------------------\u001b[0m",
      "\u001b[1;31mTypeError\u001b[0m                                 Traceback (most recent call last)",
      "\u001b[1;32mC:\\Users\\ANTHON~1\\AppData\\Local\\Temp/ipykernel_30584/1283453622.py\u001b[0m in \u001b[0;36m<module>\u001b[1;34m\u001b[0m\n\u001b[0;32m     25\u001b[0m \u001b[0md\u001b[0m \u001b[1;33m=\u001b[0m \u001b[0mmy_dist_xyz\u001b[0m\u001b[1;33m(\u001b[0m\u001b[1;33m(\u001b[0m\u001b[1;36m0\u001b[0m\u001b[1;33m,\u001b[0m \u001b[1;36m0\u001b[0m\u001b[1;33m)\u001b[0m\u001b[1;33m,\u001b[0m \u001b[1;33m(\u001b[0m\u001b[1;36m0\u001b[0m\u001b[1;33m,\u001b[0m \u001b[1;36m1\u001b[0m\u001b[1;33m)\u001b[0m\u001b[1;33m,\u001b[0m \u001b[1;33m(\u001b[0m\u001b[1;36m1\u001b[0m\u001b[1;33m,\u001b[0m \u001b[1;36m1\u001b[0m\u001b[1;33m)\u001b[0m\u001b[1;33m)\u001b[0m\u001b[1;33m\u001b[0m\u001b[1;33m\u001b[0m\u001b[0m\n\u001b[0;32m     26\u001b[0m \u001b[0mprint\u001b[0m\u001b[1;33m(\u001b[0m\u001b[0md\u001b[0m\u001b[1;33m)\u001b[0m\u001b[1;33m\u001b[0m\u001b[1;33m\u001b[0m\u001b[0m\n\u001b[1;32m---> 27\u001b[1;33m \u001b[0md\u001b[0m \u001b[1;33m=\u001b[0m \u001b[0mmy_dist\u001b[0m\u001b[1;33m(\u001b[0m\u001b[1;33m(\u001b[0m\u001b[1;36m0\u001b[0m\u001b[1;33m,\u001b[0m \u001b[1;36m0\u001b[0m\u001b[1;33m)\u001b[0m\u001b[1;33m,\u001b[0m \u001b[1;33m(\u001b[0m\u001b[1;36m0\u001b[0m\u001b[1;33m,\u001b[0m \u001b[1;36m1\u001b[0m\u001b[1;33m)\u001b[0m\u001b[1;33m)\u001b[0m\u001b[1;33m\u001b[0m\u001b[1;33m\u001b[0m\u001b[0m\n\u001b[0m",
      "\u001b[1;31mTypeError\u001b[0m: my_dist() missing 1 required positional argument: 'z'"
     ]
    }
   ],
   "source": [
    "def my_dist_xyz(x, y, z):\n",
    "    \"\"\"\n",
    "    x, y, z are 2D coordinates contained in a tuple\n",
    "    output:\n",
    "    d - list, where\n",
    "        d[0] is the distance between x and y\n",
    "        d[1] is the distance between x and z\n",
    "        d[2] is the distance between y and z\n",
    "    \"\"\" \n",
    "    def my_dist(x,y):\n",
    "        \"\"\"\n",
    "        subfunction for my_dist_xyz\n",
    "        Output is the distance between x and y, \n",
    "        computed using the distance formula\n",
    "        \"\"\"\n",
    "        out = np.sqrt((x[0]-y[0])**2+(x[1]-y[1])**2)\n",
    "        return out\n",
    "    \n",
    "    d0 = my_dist(x, y)\n",
    "    d1 = my_dist(x, z)\n",
    "    d2 = my_dist(y, z)\n",
    "    \n",
    "    return [d0, d1, d2]\n",
    "\n",
    "d = my_dist_xyz((0, 0), (0, 1), (1, 1))\n",
    "print(d)\n",
    "d = my_dist((0, 0), (0, 1))\n",
    "\n",
    "# Idk why it doesn't work but this was given by the textbook"
   ]
  },
  {
   "attachments": {},
   "cell_type": "markdown",
   "metadata": {},
   "source": [
    "### Lambda Function\n",
    "- Anonymous Function, A function defined without a name. \n",
    "- Example:"
   ]
  },
  {
   "cell_type": "code",
   "execution_count": 20,
   "metadata": {},
   "outputs": [
    {
     "name": "stdout",
     "output_type": "stream",
     "text": [
      "4\n",
      "25\n",
      "4\n",
      "25\n"
     ]
    },
    {
     "data": {
      "text/plain": [
       "[(2, 0), (4, 1), (1, 2)]"
      ]
     },
     "execution_count": 20,
     "metadata": {},
     "output_type": "execute_result"
    }
   ],
   "source": [
    "square = lambda x: x**2\n",
    "\n",
    "print(square(2))\n",
    "print(square(5))\n",
    "# this is equivalent to \n",
    "square = lambda x: x**2\n",
    "\n",
    "print(square(2))\n",
    "print(square(5))\n",
    "\n",
    "# Example\n",
    "sorted([(1, 2), (2, 0), (4, 1)], key=lambda x: x[1])\n",
    "# What happens? The function sorted has an argument key, where a custom key function can be \n",
    "# supplied to customize the sort order. We use the lambda function as a shortcut for this custom key function.\n"
   ]
  },
  {
   "attachments": {},
   "cell_type": "markdown",
   "metadata": {},
   "source": [
    "### Functions as Arguments to function\n",
    "- Passes a function as a variable to another function,\n",
    "- The input to some function may be other functions"
   ]
  },
  {
   "cell_type": "code",
   "execution_count": 21,
   "metadata": {},
   "outputs": [
    {
     "name": "stdout",
     "output_type": "stream",
     "text": [
      "5\n",
      "5\n"
     ]
    }
   ],
   "source": [
    "# Assign the function max to variable f, getting the max value from a function\n",
    "f = max\n",
    "print(f([2, 3, 5]))\n",
    "print(max([2, 3, 5]))"
   ]
  },
  {
   "attachments": {},
   "cell_type": "markdown",
   "metadata": {},
   "source": [
    "Write a function my_fun_plus_one that takes a function object, f, and a float number x as input arguments. my_fun_plus_one should return f evaluated at x, and the result added to the value 1. Verify that it works for various functions and values of x."
   ]
  },
  {
   "cell_type": "code",
   "execution_count": 25,
   "metadata": {},
   "outputs": [
    {
     "name": "stdout",
     "output_type": "stream",
     "text": [
      "2.0\n",
      "1.0\n",
      "6.0\n",
      "5\n"
     ]
    }
   ],
   "source": [
    "def my_fun_plus_one(f, x):\n",
    "    return f(x) + 1\n",
    "\n",
    "print(my_fun_plus_one(np.sin, np.pi/2))\n",
    "print(my_fun_plus_one(np.cos, np.pi/2))\n",
    "print(my_fun_plus_one(np.sqrt, 25))\n",
    "\n",
    "# We can see the above example that different \n",
    "# functions are used as the inputs into the function. \n",
    "# Of course, we can use the lambda functions as well.\n",
    "print(my_fun_plus_one(lambda x: x + 2, 2))"
   ]
  },
  {
   "attachments": {},
   "cell_type": "markdown",
   "metadata": {},
   "source": [
    "## Summary Of Chapter 3\n",
    "1. A function is a self-contained set of instructions designed to do a specific task.\n",
    "\n",
    "2. A function has its own memory block for its variables.Information can be added to a function’s memory block only through a function’s input variables. Information can leave the function’s memory block only through a function’s output variables.\n",
    "\n",
    "3.  A function can be defined within another function, called nested function. This nested function can be only accessed by the parent function.\n",
    "\n",
    "4. You can define anonymous function using keyword lambda, the so called lambda function.\n",
    "\n",
    "5. You can assign functions to variables using function handles.\n",
    "\n"
   ]
  },
  {
   "cell_type": "markdown",
   "metadata": {},
   "source": []
  }
 ],
 "metadata": {
  "kernelspec": {
   "display_name": "Python 3",
   "language": "python",
   "name": "python3"
  },
  "language_info": {
   "codemirror_mode": {
    "name": "ipython",
    "version": 3
   },
   "file_extension": ".py",
   "mimetype": "text/x-python",
   "name": "python",
   "nbconvert_exporter": "python",
   "pygments_lexer": "ipython3",
   "version": "3.9.13 (tags/v3.9.13:6de2ca5, May 17 2022, 16:36:42) [MSC v.1929 64 bit (AMD64)]"
  },
  "orig_nbformat": 4,
  "vscode": {
   "interpreter": {
    "hash": "255d7ba9310648c5ca94a0387298f5e5618361c63d12bd0888f5951bd133afb1"
   }
  }
 },
 "nbformat": 4,
 "nbformat_minor": 2
}
