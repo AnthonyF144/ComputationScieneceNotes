{
 "cells": [
  {
   "attachments": {},
   "cell_type": "markdown",
   "metadata": {},
   "source": [
    "# Chapter 4: Branching Statements"
   ]
  },
  {
   "cell_type": "code",
   "execution_count": 2,
   "metadata": {},
   "outputs": [],
   "source": [
    "import numpy as np"
   ]
  },
  {
   "attachments": {},
   "cell_type": "markdown",
   "metadata": {},
   "source": [
    "### 4.1: If-Else statments\n",
    "- Code construct that executes blocks of code only if certain conditions are met. These conditions are represented as logical expressions."
   ]
  },
  {
   "cell_type": "code",
   "execution_count": 5,
   "metadata": {},
   "outputs": [
    {
     "name": "stdout",
     "output_type": "stream",
     "text": [
      "Heat\n",
      "AC\n",
      "off\n"
     ]
    }
   ],
   "source": [
    "def my_thermo_stat(temp, desired_temp):\n",
    "    \"\"\"\n",
    "    Changes the status of the thermostat based on \n",
    "    temperature and desired temperature\n",
    "    author\n",
    "    date\n",
    "    :type temp: Int\n",
    "    :type desiredTemp: Int\n",
    "    :rtype: String\n",
    "    \"\"\"\n",
    "    if temp < desired_temp - 5:\n",
    "        status = 'Heat'\n",
    "    elif temp > desired_temp + 5:\n",
    "        status = 'AC'\n",
    "    else:\n",
    "        status = 'off'\n",
    "    return status\n",
    "\n",
    "status = my_thermo_stat(65,75)\n",
    "print(status)\n",
    "\n",
    "status = my_thermo_stat(75,65)\n",
    "print(status)\n",
    "\n",
    "status = my_thermo_stat(65,63)\n",
    "print(status)"
   ]
  },
  {
   "attachments": {},
   "cell_type": "markdown",
   "metadata": {},
   "source": [
    "Another example"
   ]
  },
  {
   "cell_type": "code",
   "execution_count": 7,
   "metadata": {},
   "outputs": [
    {
     "data": {
      "text/plain": [
       "array([12.56637061, 18.84955592, 25.13274123])"
      ]
     },
     "execution_count": 7,
     "metadata": {},
     "output_type": "execute_result"
    }
   ],
   "source": [
    "def my_circ_calc(r, calc):\n",
    "    \"\"\"\n",
    "    Calculate various circle measurements\n",
    "    author\n",
    "    date\n",
    "    :type r: Int or Float\n",
    "    :type calc: String\n",
    "    :rtype: Int or Float\n",
    "    \"\"\"\n",
    "    if calc == 'area':\n",
    "        return np.pi*r**2\n",
    "    elif calc == 'circumference':\n",
    "        return 2*np.pi*r\n",
    "    \n",
    "my_circ_calc(np.array([2, 3, 4]), 'circumference')"
   ]
  },
  {
   "cell_type": "code",
   "execution_count": 9,
   "metadata": {},
   "outputs": [
    {
     "data": {
      "text/plain": [
       "19.634954084936208"
      ]
     },
     "execution_count": 9,
     "metadata": {},
     "output_type": "execute_result"
    }
   ],
   "source": [
    "my_circ_calc(2.5, 'area')"
   ]
  },
  {
   "attachments": {},
   "cell_type": "markdown",
   "metadata": {},
   "source": [
    "## 4.2: Ternary Operators\n",
    "- Also known as Conditional Expression\n",
    "- One-line code to evaluate the first expression if the condition is true\n",
    "- Otherwise it evaluates the second expression. \n",
    "\n",
    "Construction: ternary operstor in Python\n",
    "- expression_if_true if condition else expression_if_false\n"
   ]
  },
  {
   "cell_type": "code",
   "execution_count": 11,
   "metadata": {},
   "outputs": [
    {
     "name": "stdout",
     "output_type": "stream",
     "text": [
      "student\n",
      "student\n"
     ]
    }
   ],
   "source": [
    "# Example: Ternary operator\n",
    "is_student = True\n",
    "person = 'student' if is_student else 'not student'\n",
    "print(person)\n",
    "\n",
    "# Equivalent to \n",
    "\n",
    "is_student = True\n",
    "if is_student:\n",
    "    person = 'student'\n",
    "else:\n",
    "    person = 'not student'\n",
    "print(person)"
   ]
  },
  {
   "attachments": {},
   "cell_type": "markdown",
   "metadata": {},
   "source": [
    "## Summary\n",
    "1. Branching (if-else) statements allow functions to take different actions under different circumstances.\n",
    "\n",
    "2. Ternary operators allow single line branching statements\n",
    "\n"
   ]
  },
  {
   "cell_type": "markdown",
   "metadata": {},
   "source": []
  }
 ],
 "metadata": {
  "kernelspec": {
   "display_name": "Python 3",
   "language": "python",
   "name": "python3"
  },
  "language_info": {
   "codemirror_mode": {
    "name": "ipython",
    "version": 3
   },
   "file_extension": ".py",
   "mimetype": "text/x-python",
   "name": "python",
   "nbconvert_exporter": "python",
   "pygments_lexer": "ipython3",
   "version": "3.8.10 (default, Jun  2 2021, 10:49:15) \n[GCC 9.4.0]"
  },
  "orig_nbformat": 4,
  "vscode": {
   "interpreter": {
    "hash": "916dbcbb3f70747c44a77c7bcd40155683ae19c65e1c03b4aa3499c5328201f1"
   }
  }
 },
 "nbformat": 4,
 "nbformat_minor": 2
}
